{
 "cells": [
  {
   "cell_type": "markdown",
   "metadata": {},
   "source": [
    "# Olympic Athletes"
   ]
  },
  {
   "cell_type": "markdown",
   "metadata": {},
   "source": [
    "**Team members:** <br>\n",
    "Tatevik Stepanyan <br> Maxime Fessy <br>\n",
    "Léo Le Terrien"
   ]
  },
  {
   "cell_type": "markdown",
   "metadata": {},
   "source": [
    "Link to the project slide: https://docs.google.com/presentation/d/1RHDUPsJVVtwVfPp8-WxsK8udEpYOmf4Ki9NjtbgpLDU/edit#slide=id.g48274606ac_235_18"
   ]
  },
  {
   "cell_type": "markdown",
   "metadata": {},
   "source": [
    "## Task 1: Business understanding"
   ]
  },
  {
   "cell_type": "markdown",
   "metadata": {},
   "source": [
    "**Background:** Countries participate at olympic games with estimations of success for their teams in sports well developed in a given country. For instance, South Korea is renowned for archery,  Armenia - for Greco-Roman wrestling, etc. We will us the dataset to find some correlations between the characteristics of the athletes and the results obtained in general. Moreover, we will search for the relations between the countries to see how sports are more likely related to different countries than others (this knowledge can later be developed to find relations with other parameters (population, location, history etc). From the business perspective, we are interested in finding the fields through clustering that can attract public or private funding for further improvements and maybe discover some countries or type of athletes which can be good at a specific sport and then facilitate the evolution of that sport locally.\n",
    "\n",
    "**Business goals:** If developed with lucrative purposes, the project can serve to advise different stakeholders the areas that can be improved and that can be profitable and efficient. An example can be to advise public sector such as ministries of sport of a country to allocate resources to the fields that prove through olympic games results to be justified. On the other hand, companies specialized in investing in sport can seek advice regarding a sport in a country of a significant potential for development. \n",
    "\n",
    "**Business success criteria:** The measure for the success criteria will be medal in the olympics on the first place, and other sport competition on the second place. \n",
    "\n",
    "**Inventory of resources:** For the project under the question, we have only human resources and data. In practice, sportsmen with expert knowledge are of a great importance for the project to not only guide the data-miners but also to build a network with potential stakeholders.\n",
    "\n",
    "**Requirements, assumptions, and constraints:** Taking into consideration that the project is not initiated from the business, the requirements are limited with the main one to state that the data correspond to the official olympic committee data and in case of request can be confirmed. The data are open source, therefore no need for further approval for access.\n",
    "\n",
    "**Risks and contingencies:** It is considered of low relevance to the project under question given its specificity that there are no operations continuously in process. However, it can happen to face technical issues during the meetings with stakeholders. For that case, business continuity plan in place, back-up connection / tools / equipment can be prevued. \n",
    "\n",
    "**Terminology:** No particular terminology.\n",
    "\n",
    "**Costs and benefits:** We are searching for best performers and possibilities to related them by countries and sports. So that finally we are able to suggest investors the best options to invest in with higher probabilities of wins during various competitions. In addition, relating the top performers to the countries, it will be possible to opt for teams and increase the probabilities. Cost reductions can be suggested to public administration of a country to point out better resource-allocation possibilities between sports.\n",
    "\n",
    "**Data-mining goals:** The goal is to find relations between top olympic athletes according to their performance (resulting in medals), their physical characteristics and countries. For that the goal is finding appropriate models, in this case we will apply clustering and KNN as well as regression, where appropriate. \n",
    "\n",
    "**Data-mining success criteria:** The ultimate goal is to predict a gold, still we are interested also in other medals. This increases our flexibility. Another advantage is that we estimate in advance the maximum number of medals per olympic games, so the problem is to correctly predict the teams and athletes. Usually the countries possess all the information, our aim is to bring light on the topic through cross-country analysis.\n"
   ]
  },
  {
   "cell_type": "markdown",
   "metadata": {},
   "source": [
    "## Task 2: Data understanding"
   ]
  },
  {
   "cell_type": "markdown",
   "metadata": {},
   "source": [
    "**Gathering data:** To address the data mining goal we need to get the maximum of data about the olympic athletes of the maximum Olympic Games possible. The types of necessary data can be numerical and categorical, it depends of the goal of the specific task we want to deal with. We found the dataset on the website Kaggle, this dataset is really full and apparently without missing data. It contains all the olympic athletes who had participated to Olympic Games during the last 120 years. It seems to be a very good dataset to allow us to make a good study. \n",
    "In this dataset we will use the following columns: \"Sex\", \"Age\", \"Height\", \"Weight\", \"Team\", \"NOC\", \"Games\", \"Year\", \"Season\", \"City\", \"Sport\", \"Event\", \"Medal\".\n",
    "We consider removing a part of dataset and keeping the last 20 years out of 120 to exclude fluctuations resulting in various externalities, such as the collapse of Soviet Union and inclusion of former members as independent states. \n",
    "\n",
    "**Describing data:**\n",
    "For this study we have a csv file with slightly more than 271k rows and 15 attributes. This dataset contains athletes descriptions (\"Name\", \"Sex\", \"Age\", \"Height\", \"Weight\", \"Medal\") and the game-specific describtion(\"Team\", \"NOC\", \"Games\", \"Year\", \"Season\", \"City\", \"Sport\", \"Event\") of all Olympics Games during the last 120 years. We found this dataset on the website Kaggle.\n",
    "\n",
    "**Exploring data:** <br>\n",
    "ID: athlete identification -> nominal <br>\n",
    "Name: name of the athlete -> nominal <br>\n",
    "Sex: Sex of the athlete(Male or Female) -> nominal <br>\n",
    "Age: age of the athlete -> numerical <br>\n",
    "Height: height of the athlete -> numerical <br>\n",
    "Weight: weight of the athlete -> numerical <br>\n",
    "Team: Country where come from the athlete -> nominal <br>\n",
    "NOC: Country code -> nominal <br>\n",
    "Games: the year and the type of Olympic Games(Summer or Winter) -> nominal <br>\n",
    "Year: year of the game -> numerical <br>\n",
    "Season: season of the Olympic game -> nominal <br>\n",
    "City: city where the Olympic Game took place -> nominal <br>\n",
    "Sport: Sport practiced by the athlete -> nominal <br>\n",
    "Event: Event practiced by the athlete -> nominal <br>\n",
    "Medal: Medal obtained by the athlete(Gold, Silver, Bronze or NA) -> ordinal <br>\n",
    "\n",
    "**Data quality:**\n",
    "All the data that we need are there, because this dataset is all the data of the Olympic Games since 120 years and there are is the information in the attributes that we need for our goal. Moreover, all the data are easily accessible because it's a simple CSV file. Finally, there is no special data quality issue founded in this dataset such as an impossible age, weight or height or a typing error. The attribute \"Medal\" contains information about gained medals and NA-s which correspond to receiving no medal and can be replaced by 0-s."
   ]
  },
  {
   "cell_type": "markdown",
   "metadata": {},
   "source": [
    "## Task 3: Project schedule"
   ]
  },
  {
   "cell_type": "markdown",
   "metadata": {},
   "source": [
    "**Project Schedule**\n",
    "-  data preparation: \n",
    "    -  olympics athlete dataset final preparation (8h)\n",
    "    -  understanding of derived results regarding country specific sport, history and interpretation through sport magazines and expert analytics (6h)\n",
    "    -  summarizing the logic behind country specific top performers / teams results from the perspective of stakeholders support / financing (for example, are there private investors to finance a particular sport in a given country (10h)\n",
    "-  modeling:\n",
    "    -  nominal values, we will use clustering and KNN to understand the relationships (5h)\n",
    "    -  numerical attributes will be analysed by regression (6h)\n",
    "    -  at the end, we will have several models to apply and evaluate\n",
    "-  evaluation:\n",
    "    -  creation of best predictors: we will apply the models to find out the best predictors (13h)\n",
    "    -  we will evaluate the models with the best predictors applied (5h)\n",
    "    -  we finally will interpret the logic of prediction / evaluation results with the knowledge gained from expert analytics consultations (4h)\n",
    "-  deployment:\n",
    "    -  for our project, the deployment will consist of finding sport sector stakeholders / sponsors / investors, analyse their preferences and investments strategies and suggest them new options (10h)\n",
    "-  poster preparation (8h)\n",
    "\n",
    "For the efficiency purposes, it was agreed to invest equal amount of time by each member for all tasks."
   ]
  }
 ],
 "metadata": {
  "kernelspec": {
   "display_name": "Python 3",
   "language": "python",
   "name": "python3"
  },
  "language_info": {
   "codemirror_mode": {
    "name": "ipython",
    "version": 3
   },
   "file_extension": ".py",
   "mimetype": "text/x-python",
   "name": "python",
   "nbconvert_exporter": "python",
   "pygments_lexer": "ipython3",
   "version": "3.6.5"
  }
 },
 "nbformat": 4,
 "nbformat_minor": 2
}
